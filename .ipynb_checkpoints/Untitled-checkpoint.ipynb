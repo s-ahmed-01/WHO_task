{
 "cells": [
  {
   "cell_type": "code",
   "execution_count": 13,
   "id": "de268d88-2caa-46c2-ba98-549a5e74b610",
   "metadata": {
    "tags": []
   },
   "outputs": [
    {
     "name": "stdout",
     "output_type": "stream",
     "text": [
      "   Country          Region  Year  Infant_deaths  Under_five_deaths  \\\n",
      "0  Turkiye     Middle East  2015           11.1               13.0   \n",
      "1    Spain  European Union  2015            2.7                3.3   \n",
      "2    India            Asia  2007           51.5               67.9   \n",
      "3   Guyana   South America  2006           32.8               40.5   \n",
      "4   Israel     Middle East  2012            3.4                4.3   \n",
      "\n",
      "   Adult_mortality  Alcohol_consumption  Hepatitis_B  Measles   BMI  ...  \\\n",
      "0         105.8240                 1.32           97       65  27.8  ...   \n",
      "1          57.9025                10.35           97       94  26.0  ...   \n",
      "2         201.0765                 1.57           60       35  21.2  ...   \n",
      "3         222.1965                 5.68           93       74  25.3  ...   \n",
      "4          57.9510                 2.89           97       89  27.0  ...   \n",
      "\n",
      "   Diphtheria  Incidents_HIV  GDP_per_capita  Population_mln  \\\n",
      "0          97           0.08           11006           78.53   \n",
      "1          97           0.09           25742           46.44   \n",
      "2          64           0.13            1076         1183.21   \n",
      "3          93           0.79            4146            0.75   \n",
      "4          94           0.08           33995            7.91   \n",
      "\n",
      "   Thinness_ten_nineteen_years  Thinness_five_nine_years  Schooling  \\\n",
      "0                          4.9                       4.8        7.8   \n",
      "1                          0.6                       0.5        9.7   \n",
      "2                         27.1                      28.0        5.0   \n",
      "3                          5.7                       5.5        7.9   \n",
      "4                          1.2                       1.1       12.8   \n",
      "\n",
      "   Economy_status_Developed  Economy_status_Developing  Life_expectancy  \n",
      "0                         0                          1             76.5  \n",
      "1                         1                          0             82.8  \n",
      "2                         0                          1             65.4  \n",
      "3                         0                          1             67.0  \n",
      "4                         1                          0             81.7  \n",
      "\n",
      "[5 rows x 21 columns]\n",
      "(2864, 21)\n"
     ]
    }
   ],
   "source": [
    "import pandas as pd\n",
    "import seaborn as sns\n",
    "import matplotlib.pyplot as plt\n",
    "import statsmodels.api as sm\n",
    "import statsmodels.tools\n",
    "from sklearn.linear_model import Ridge, Lasso, ElasticNet\n",
    "from sklearn.preprocessing import StandardScaler\n",
    "import numpy as np\n",
    "from sklearn.model_selection import train_test_split\n",
    "#import data\n",
    "data = pd.read_csv(\"Life Expectancy Data.csv\")\n",
    "#check format by printing first few rows\n",
    "print(data.head())\n",
    "#check number of rows/columns\n",
    "print(data.shape)"
   ]
  },
  {
   "cell_type": "code",
   "execution_count": 15,
   "id": "a9b7644a-e414-49a7-9184-b7ac43d12b6d",
   "metadata": {},
   "outputs": [],
   "source": [
    "def stepwise_selection(X, y, threshold_in=0.01, threshold_out=0.05, verbose=True):\n",
    "    included = []  # This is going to be the list of features we keep\n",
    "    while True:\n",
    "        changed = False\n",
    "        # Forward step\n",
    "        excluded = list(set(X.columns) - set(included))\n",
    "        new_pval = pd.Series(index=excluded, dtype='float64')\n",
    "        for new_column in excluded:\n",
    "            model = sm.OLS(y, sm.add_constant(pd.DataFrame(X[included + [new_column]]))).fit()\n",
    "            new_pval[new_column] = model.pvalues[new_column]\n",
    "        best_pval = new_pval.min()\n",
    "        # We add the feature with the lowest (best) p-value under the threshold to our 'included' list\n",
    "        if best_pval < threshold_in:\n",
    "            best_feature = new_pval.idxmin()\n",
    "            included.append(best_feature)\n",
    "            changed = True\n",
    "            if verbose:\n",
    "                print('Add  {:30} with p-value {:.6}'.format(best_feature, best_pval))\n",
    "\n",
    "        # Backward step: removing features if new features added to the list make them statistically insignificant\n",
    "        model = sm.OLS(y, sm.add_constant(pd.DataFrame(X[included]))).fit()\n",
    "        \n",
    "        # Use all coefs except intercept\n",
    "        pvalues = model.pvalues.iloc[1:]\n",
    "        worst_pval = pvalues.max()  # Null if pvalues is empty\n",
    "        # If the p-value exceeds the upper threshold, the feature will be dropped from the 'included' list\n",
    "        if worst_pval > threshold_out:\n",
    "            changed = True\n",
    "            worst_feature = pvalues.idxmax()\n",
    "            included.remove(worst_feature)\n",
    "            if verbose:\n",
    "                print('Drop {:30} with p-value {:.6}'.format(worst_feature, worst_pval))\n",
    "        if not changed:\n",
    "            break\n",
    "    return model, included"
   ]
  },
  {
   "cell_type": "code",
   "execution_count": 5,
   "id": "5e6898dd-7b30-4663-b94b-1ea54f6c086d",
   "metadata": {
    "tags": []
   },
   "outputs": [
    {
     "name": "stdout",
     "output_type": "stream",
     "text": [
      "Country                        0\n",
      "Region                         0\n",
      "Year                           0\n",
      "Infant_deaths                  0\n",
      "Under_five_deaths              0\n",
      "Adult_mortality                0\n",
      "Alcohol_consumption            0\n",
      "Hepatitis_B                    0\n",
      "Measles                        0\n",
      "BMI                            0\n",
      "Polio                          0\n",
      "Diphtheria                     0\n",
      "Incidents_HIV                  0\n",
      "GDP_per_capita                 0\n",
      "Population_mln                 0\n",
      "Thinness_ten_nineteen_years    0\n",
      "Thinness_five_nine_years       0\n",
      "Schooling                      0\n",
      "Economy_status_Developed       0\n",
      "Economy_status_Developing      0\n",
      "Life_expectancy                0\n",
      "dtype: int64\n"
     ]
    }
   ],
   "source": [
    "#check for NAs by column\n",
    "na_counts = data.isna().sum()\n",
    "\n",
    "print(na_counts)"
   ]
  },
  {
   "cell_type": "code",
   "execution_count": null,
   "id": "64227288-c536-4ac6-90a7-bbf0c0c38a16",
   "metadata": {
    "tags": []
   },
   "outputs": [],
   "source": [
    "# corr plots of each variable against all others\n",
    "sns.pairplot(data)"
   ]
  },
  {
   "cell_type": "code",
   "execution_count": null,
   "id": "5b43b17e-3675-4320-a27b-a08c819e1808",
   "metadata": {
    "tags": []
   },
   "outputs": [],
   "source": [
    "#heatmap of all numerical variables\n",
    "numeric_data = data.drop(columns=['Country', 'Region'])\n",
    "plt.figure(figsize = (10, 10))\n",
    "sns.heatmap(numeric_data.corr(), annot = True)"
   ]
  },
  {
   "cell_type": "code",
   "execution_count": 17,
   "id": "ac11ad11-0e96-42c9-8160-5448cef0e35c",
   "metadata": {},
   "outputs": [
    {
     "name": "stdin",
     "output_type": "stream",
     "text": [
      "Do you want to include potentially sensitive data in this model? Type Y for yes or N for no. N\n"
     ]
    }
   ],
   "source": [
    "#asking how much data user wants to give/use\n",
    "data_level = input(\"Do you want to include potentially sensitive data in this model? Type Y for yes or N for no.\")\n",
    "data_level = data_level.upper()\n"
   ]
  },
  {
   "cell_type": "code",
   "execution_count": 19,
   "id": "c76a6044-63d4-4b7e-a7bb-09ea93fcb836",
   "metadata": {
    "tags": []
   },
   "outputs": [
    {
     "name": "stdout",
     "output_type": "stream",
     "text": [
      "Add  Under_five_deaths              with p-value 0.0\n",
      "Add  Adult_mortality                with p-value 0.0\n",
      "Add  Economy_status_Developing      with p-value 7.57111e-117\n",
      "Add  GDP_per_capita                 with p-value 2.60037e-25\n",
      "Add  Alcohol_consumption            with p-value 1.44755e-15\n",
      "Add  Infant_deaths                  with p-value 5.82082e-12\n",
      "Add  Schooling                      with p-value 8.14498e-05\n",
      "Add  BMI                            with p-value 2.51939e-05\n",
      "Add  Thinness_ten_nineteen_years    with p-value 0.00411891\n",
      "Add  Incidents_HIV                  with p-value 0.00254561\n",
      "Add  Year                           with p-value 0.00506946\n"
     ]
    }
   ],
   "source": [
    "if data_level == \"Y\":\n",
    "    #feature engineering - dropping columns, OHE\n",
    "    data = data.drop(columns = 'Country')\n",
    "    data = pd.get_dummies(data, columns = ['Region'], drop_first = True, prefix = 'Region_', dtype=int)\n",
    "    data = data.drop(columns = 'Economy_status_Developed')\n",
    "elif data_level == \"N\":\n",
    "    data = data.drop(columns=['Region'])\n",
    "    data = data.drop(columns = 'Economy_status_Developed')\n",
    "    data = data.drop(columns = 'Country')\n",
    "    \n",
    "#splitting data into X and Y for the model\n",
    "feature_cols = list(data.columns)\n",
    "feature_cols.remove('Life_expectancy')\n",
    "X = data[feature_cols]\n",
    "y = data['Life_expectancy']\n",
    "\n",
    "#test train split for model\n",
    "X_train, X_test, y_train, y_test = train_test_split(X, y, test_size=0.375, random_state=42)\n",
    "    \n",
    "#scaling data \n",
    "numerical_cols = data.drop(columns=['Life_expectancy']).select_dtypes(include=['float64', 'int64']).columns\n",
    "scaler = StandardScaler()\n",
    "X_train[numerical_cols] = scaler.fit_transform(X_train[numerical_cols])\n",
    "X_test[numerical_cols] = scaler.fit_transform(X_test[numerical_cols])\n",
    "    \n",
    "#creating a model\n",
    "result, selected_features = stepwise_selection(X_train, y_train)"
   ]
  },
  {
   "cell_type": "code",
   "execution_count": 21,
   "id": "0f81d32f-23cb-4f26-abf6-6b67d7498092",
   "metadata": {
    "tags": []
   },
   "outputs": [
    {
     "data": {
      "text/html": [
       "<table class=\"simpletable\">\n",
       "<caption>OLS Regression Results</caption>\n",
       "<tr>\n",
       "  <th>Dep. Variable:</th>     <td>Life_expectancy</td> <th>  R-squared:         </th> <td>   0.979</td>\n",
       "</tr>\n",
       "<tr>\n",
       "  <th>Model:</th>                   <td>OLS</td>       <th>  Adj. R-squared:    </th> <td>   0.979</td>\n",
       "</tr>\n",
       "<tr>\n",
       "  <th>Method:</th>             <td>Least Squares</td>  <th>  F-statistic:       </th> <td>   7632.</td>\n",
       "</tr>\n",
       "<tr>\n",
       "  <th>Date:</th>             <td>Fri, 24 May 2024</td> <th>  Prob (F-statistic):</th>  <td>  0.00</td> \n",
       "</tr>\n",
       "<tr>\n",
       "  <th>Time:</th>                 <td>10:57:47</td>     <th>  Log-Likelihood:    </th> <td> -3112.9</td>\n",
       "</tr>\n",
       "<tr>\n",
       "  <th>No. Observations:</th>      <td>  1790</td>      <th>  AIC:               </th> <td>   6250.</td>\n",
       "</tr>\n",
       "<tr>\n",
       "  <th>Df Residuals:</th>          <td>  1778</td>      <th>  BIC:               </th> <td>   6316.</td>\n",
       "</tr>\n",
       "<tr>\n",
       "  <th>Df Model:</th>              <td>    11</td>      <th>                     </th>     <td> </td>   \n",
       "</tr>\n",
       "<tr>\n",
       "  <th>Covariance Type:</th>      <td>nonrobust</td>    <th>                     </th>     <td> </td>   \n",
       "</tr>\n",
       "</table>\n",
       "<table class=\"simpletable\">\n",
       "<tr>\n",
       "               <td></td>                  <th>coef</th>     <th>std err</th>      <th>t</th>      <th>P>|t|</th>  <th>[0.025</th>    <th>0.975]</th>  \n",
       "</tr>\n",
       "<tr>\n",
       "  <th>const</th>                       <td>   68.7045</td> <td>    0.033</td> <td> 2103.446</td> <td> 0.000</td> <td>   68.640</td> <td>   68.769</td>\n",
       "</tr>\n",
       "<tr>\n",
       "  <th>Under_five_deaths</th>           <td>   -2.3574</td> <td>    0.229</td> <td>  -10.312</td> <td> 0.000</td> <td>   -2.806</td> <td>   -1.909</td>\n",
       "</tr>\n",
       "<tr>\n",
       "  <th>Adult_mortality</th>             <td>   -5.5279</td> <td>    0.092</td> <td>  -60.151</td> <td> 0.000</td> <td>   -5.708</td> <td>   -5.348</td>\n",
       "</tr>\n",
       "<tr>\n",
       "  <th>Economy_status_Developing</th>   <td>   -0.3027</td> <td>    0.057</td> <td>   -5.343</td> <td> 0.000</td> <td>   -0.414</td> <td>   -0.192</td>\n",
       "</tr>\n",
       "<tr>\n",
       "  <th>GDP_per_capita</th>              <td>    0.4072</td> <td>    0.051</td> <td>    7.965</td> <td> 0.000</td> <td>    0.307</td> <td>    0.507</td>\n",
       "</tr>\n",
       "<tr>\n",
       "  <th>Alcohol_consumption</th>         <td>    0.2724</td> <td>    0.050</td> <td>    5.480</td> <td> 0.000</td> <td>    0.175</td> <td>    0.370</td>\n",
       "</tr>\n",
       "<tr>\n",
       "  <th>Infant_deaths</th>               <td>   -1.4905</td> <td>    0.228</td> <td>   -6.541</td> <td> 0.000</td> <td>   -1.937</td> <td>   -1.044</td>\n",
       "</tr>\n",
       "<tr>\n",
       "  <th>Schooling</th>                   <td>    0.3203</td> <td>    0.068</td> <td>    4.691</td> <td> 0.000</td> <td>    0.186</td> <td>    0.454</td>\n",
       "</tr>\n",
       "<tr>\n",
       "  <th>BMI</th>                         <td>   -0.3012</td> <td>    0.053</td> <td>   -5.668</td> <td> 0.000</td> <td>   -0.405</td> <td>   -0.197</td>\n",
       "</tr>\n",
       "<tr>\n",
       "  <th>Thinness_ten_nineteen_years</th> <td>   -0.1529</td> <td>    0.045</td> <td>   -3.361</td> <td> 0.001</td> <td>   -0.242</td> <td>   -0.064</td>\n",
       "</tr>\n",
       "<tr>\n",
       "  <th>Incidents_HIV</th>               <td>    0.1609</td> <td>    0.054</td> <td>    2.960</td> <td> 0.003</td> <td>    0.054</td> <td>    0.268</td>\n",
       "</tr>\n",
       "<tr>\n",
       "  <th>Year</th>                        <td>    0.0944</td> <td>    0.034</td> <td>    2.806</td> <td> 0.005</td> <td>    0.028</td> <td>    0.160</td>\n",
       "</tr>\n",
       "</table>\n",
       "<table class=\"simpletable\">\n",
       "<tr>\n",
       "  <th>Omnibus:</th>       <td>14.665</td> <th>  Durbin-Watson:     </th> <td>   1.996</td>\n",
       "</tr>\n",
       "<tr>\n",
       "  <th>Prob(Omnibus):</th> <td> 0.001</td> <th>  Jarque-Bera (JB):  </th> <td>  16.840</td>\n",
       "</tr>\n",
       "<tr>\n",
       "  <th>Skew:</th>          <td> 0.153</td> <th>  Prob(JB):          </th> <td>0.000220</td>\n",
       "</tr>\n",
       "<tr>\n",
       "  <th>Kurtosis:</th>      <td> 3.363</td> <th>  Cond. No.          </th> <td>    23.1</td>\n",
       "</tr>\n",
       "</table><br/><br/>Notes:<br/>[1] Standard Errors assume that the covariance matrix of the errors is correctly specified."
      ],
      "text/latex": [
       "\\begin{center}\n",
       "\\begin{tabular}{lclc}\n",
       "\\toprule\n",
       "\\textbf{Dep. Variable:}                 & Life\\_expectancy & \\textbf{  R-squared:         } &     0.979   \\\\\n",
       "\\textbf{Model:}                         &       OLS        & \\textbf{  Adj. R-squared:    } &     0.979   \\\\\n",
       "\\textbf{Method:}                        &  Least Squares   & \\textbf{  F-statistic:       } &     7632.   \\\\\n",
       "\\textbf{Date:}                          & Fri, 24 May 2024 & \\textbf{  Prob (F-statistic):} &     0.00    \\\\\n",
       "\\textbf{Time:}                          &     10:57:47     & \\textbf{  Log-Likelihood:    } &   -3112.9   \\\\\n",
       "\\textbf{No. Observations:}              &        1790      & \\textbf{  AIC:               } &     6250.   \\\\\n",
       "\\textbf{Df Residuals:}                  &        1778      & \\textbf{  BIC:               } &     6316.   \\\\\n",
       "\\textbf{Df Model:}                      &          11      & \\textbf{                     } &             \\\\\n",
       "\\textbf{Covariance Type:}               &    nonrobust     & \\textbf{                     } &             \\\\\n",
       "\\bottomrule\n",
       "\\end{tabular}\n",
       "\\begin{tabular}{lcccccc}\n",
       "                                        & \\textbf{coef} & \\textbf{std err} & \\textbf{t} & \\textbf{P$> |$t$|$} & \\textbf{[0.025} & \\textbf{0.975]}  \\\\\n",
       "\\midrule\n",
       "\\textbf{const}                          &      68.7045  &        0.033     &  2103.446  &         0.000        &       68.640    &       68.769     \\\\\n",
       "\\textbf{Under\\_five\\_deaths}            &      -2.3574  &        0.229     &   -10.312  &         0.000        &       -2.806    &       -1.909     \\\\\n",
       "\\textbf{Adult\\_mortality}               &      -5.5279  &        0.092     &   -60.151  &         0.000        &       -5.708    &       -5.348     \\\\\n",
       "\\textbf{Economy\\_status\\_Developing}    &      -0.3027  &        0.057     &    -5.343  &         0.000        &       -0.414    &       -0.192     \\\\\n",
       "\\textbf{GDP\\_per\\_capita}               &       0.4072  &        0.051     &     7.965  &         0.000        &        0.307    &        0.507     \\\\\n",
       "\\textbf{Alcohol\\_consumption}           &       0.2724  &        0.050     &     5.480  &         0.000        &        0.175    &        0.370     \\\\\n",
       "\\textbf{Infant\\_deaths}                 &      -1.4905  &        0.228     &    -6.541  &         0.000        &       -1.937    &       -1.044     \\\\\n",
       "\\textbf{Schooling}                      &       0.3203  &        0.068     &     4.691  &         0.000        &        0.186    &        0.454     \\\\\n",
       "\\textbf{BMI}                            &      -0.3012  &        0.053     &    -5.668  &         0.000        &       -0.405    &       -0.197     \\\\\n",
       "\\textbf{Thinness\\_ten\\_nineteen\\_years} &      -0.1529  &        0.045     &    -3.361  &         0.001        &       -0.242    &       -0.064     \\\\\n",
       "\\textbf{Incidents\\_HIV}                 &       0.1609  &        0.054     &     2.960  &         0.003        &        0.054    &        0.268     \\\\\n",
       "\\textbf{Year}                           &       0.0944  &        0.034     &     2.806  &         0.005        &        0.028    &        0.160     \\\\\n",
       "\\bottomrule\n",
       "\\end{tabular}\n",
       "\\begin{tabular}{lclc}\n",
       "\\textbf{Omnibus:}       & 14.665 & \\textbf{  Durbin-Watson:     } &    1.996  \\\\\n",
       "\\textbf{Prob(Omnibus):} &  0.001 & \\textbf{  Jarque-Bera (JB):  } &   16.840  \\\\\n",
       "\\textbf{Skew:}          &  0.153 & \\textbf{  Prob(JB):          } & 0.000220  \\\\\n",
       "\\textbf{Kurtosis:}      &  3.363 & \\textbf{  Cond. No.          } &     23.1  \\\\\n",
       "\\bottomrule\n",
       "\\end{tabular}\n",
       "%\\caption{OLS Regression Results}\n",
       "\\end{center}\n",
       "\n",
       "Notes: \\newline\n",
       " [1] Standard Errors assume that the covariance matrix of the errors is correctly specified."
      ],
      "text/plain": [
       "<class 'statsmodels.iolib.summary.Summary'>\n",
       "\"\"\"\n",
       "                            OLS Regression Results                            \n",
       "==============================================================================\n",
       "Dep. Variable:        Life_expectancy   R-squared:                       0.979\n",
       "Model:                            OLS   Adj. R-squared:                  0.979\n",
       "Method:                 Least Squares   F-statistic:                     7632.\n",
       "Date:                Fri, 24 May 2024   Prob (F-statistic):               0.00\n",
       "Time:                        10:57:47   Log-Likelihood:                -3112.9\n",
       "No. Observations:                1790   AIC:                             6250.\n",
       "Df Residuals:                    1778   BIC:                             6316.\n",
       "Df Model:                          11                                         \n",
       "Covariance Type:            nonrobust                                         \n",
       "===============================================================================================\n",
       "                                  coef    std err          t      P>|t|      [0.025      0.975]\n",
       "-----------------------------------------------------------------------------------------------\n",
       "const                          68.7045      0.033   2103.446      0.000      68.640      68.769\n",
       "Under_five_deaths              -2.3574      0.229    -10.312      0.000      -2.806      -1.909\n",
       "Adult_mortality                -5.5279      0.092    -60.151      0.000      -5.708      -5.348\n",
       "Economy_status_Developing      -0.3027      0.057     -5.343      0.000      -0.414      -0.192\n",
       "GDP_per_capita                  0.4072      0.051      7.965      0.000       0.307       0.507\n",
       "Alcohol_consumption             0.2724      0.050      5.480      0.000       0.175       0.370\n",
       "Infant_deaths                  -1.4905      0.228     -6.541      0.000      -1.937      -1.044\n",
       "Schooling                       0.3203      0.068      4.691      0.000       0.186       0.454\n",
       "BMI                            -0.3012      0.053     -5.668      0.000      -0.405      -0.197\n",
       "Thinness_ten_nineteen_years    -0.1529      0.045     -3.361      0.001      -0.242      -0.064\n",
       "Incidents_HIV                   0.1609      0.054      2.960      0.003       0.054       0.268\n",
       "Year                            0.0944      0.034      2.806      0.005       0.028       0.160\n",
       "==============================================================================\n",
       "Omnibus:                       14.665   Durbin-Watson:                   1.996\n",
       "Prob(Omnibus):                  0.001   Jarque-Bera (JB):               16.840\n",
       "Skew:                           0.153   Prob(JB):                     0.000220\n",
       "Kurtosis:                       3.363   Cond. No.                         23.1\n",
       "==============================================================================\n",
       "\n",
       "Notes:\n",
       "[1] Standard Errors assume that the covariance matrix of the errors is correctly specified.\n",
       "\"\"\""
      ]
     },
     "execution_count": 21,
     "metadata": {},
     "output_type": "execute_result"
    }
   ],
   "source": [
    "result.summary()"
   ]
  },
  {
   "cell_type": "code",
   "execution_count": 23,
   "id": "76ac1811-fa37-4cbe-94af-feaead12e0e9",
   "metadata": {
    "tags": []
   },
   "outputs": [
    {
     "name": "stdout",
     "output_type": "stream",
     "text": [
      "RMSE: 1.3772722914260545\n"
     ]
    }
   ],
   "source": [
    "# Make predictions using the selected features\n",
    "X_train_selected = X_train[selected_features]\n",
    "y_pred = result.predict(sm.add_constant(X_train_selected))\n",
    "\n",
    "# Calculate RMSE\n",
    "rmse = statsmodels.tools.eval_measures.rmse(y_train, y_pred)\n",
    "print(f'RMSE: {rmse}')"
   ]
  },
  {
   "cell_type": "code",
   "execution_count": 25,
   "id": "35088922-a061-4369-9712-a9cf80c3b392",
   "metadata": {
    "tags": []
   },
   "outputs": [
    {
     "name": "stdout",
     "output_type": "stream",
     "text": [
      "Test RMSE: 1.4221150357269567\n"
     ]
    }
   ],
   "source": [
    "# Filter X_test to include only the selected features\n",
    "X_test_selected = X_test[selected_features]\n",
    "y_test_pred = result.predict(sm.add_constant(X_test_selected))\n",
    "\n",
    "# Calculate RMSE for the test set\n",
    "test_rmse = statsmodels.tools.eval_measures.rmse(y_test, y_test_pred)\n",
    "print(f'Test RMSE: {test_rmse}')"
   ]
  },
  {
   "cell_type": "code",
   "execution_count": null,
   "id": "0009c30b-ad6a-4af5-b266-3f85a3765029",
   "metadata": {
    "tags": []
   },
   "outputs": [],
   "source": []
  },
  {
   "cell_type": "code",
   "execution_count": null,
   "id": "88331522-0cb0-453f-a44a-3d7dcadd06d8",
   "metadata": {
    "tags": []
   },
   "outputs": [],
   "source": []
  },
  {
   "cell_type": "code",
   "execution_count": null,
   "id": "71732571-cc8a-4898-ba06-1c6b1eea274a",
   "metadata": {},
   "outputs": [],
   "source": []
  }
 ],
 "metadata": {
  "kernelspec": {
   "display_name": "Python 3 (ipykernel)",
   "language": "python",
   "name": "python3"
  },
  "language_info": {
   "codemirror_mode": {
    "name": "ipython",
    "version": 3
   },
   "file_extension": ".py",
   "mimetype": "text/x-python",
   "name": "python",
   "nbconvert_exporter": "python",
   "pygments_lexer": "ipython3",
   "version": "3.11.9"
  }
 },
 "nbformat": 4,
 "nbformat_minor": 5
}
